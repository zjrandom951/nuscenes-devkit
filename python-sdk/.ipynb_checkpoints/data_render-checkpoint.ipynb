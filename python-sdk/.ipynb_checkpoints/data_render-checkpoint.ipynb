{
 "cells": [
  {
   "cell_type": "code",
   "execution_count": 2,
   "id": "1aaf7cc5-d316-436a-bcfa-31c0b375a997",
   "metadata": {},
   "outputs": [
    {
     "name": "stdout",
     "output_type": "stream",
     "text": [
      "/root/LSM/nuscenes-devkit/python-sdk\n"
     ]
    }
   ],
   "source": [
    "%cd /root/LSM/nuscenes-devkit/python-sdk"
   ]
  },
  {
   "cell_type": "code",
   "execution_count": 3,
   "id": "6f98c632-588c-4530-ae5e-ce8480b181ba",
   "metadata": {},
   "outputs": [
    {
     "name": "stdout",
     "output_type": "stream",
     "text": [
      "======\n",
      "Loading NuScenes tables for version v1.0-mini...\n",
      "23 category,\n",
      "8 attribute,\n",
      "4 visibility,\n",
      "911 instance,\n",
      "12 sensor,\n",
      "120 calibrated_sensor,\n",
      "31206 ego_pose,\n",
      "8 log,\n",
      "10 scene,\n",
      "404 sample,\n",
      "31206 sample_data,\n",
      "18538 sample_annotation,\n",
      "4 map,\n",
      "Done loading in 0.478 seconds.\n",
      "======\n",
      "Reverse indexing ...\n",
      "Done reverse indexing in 0.1 seconds.\n",
      "======\n"
     ]
    }
   ],
   "source": [
    "%matplotlib inline\n",
    "from nuscenes.nuscenes import NuScenes\n",
    "\n",
    "nusc = NuScenes(version='v1.0-mini', dataroot='/root/LSM/data/nuscenes', verbose=True)"
   ]
  },
  {
   "cell_type": "code",
   "execution_count": 4,
   "id": "7ed4f4dc-2d02-4180-a333-8d4e852f612e",
   "metadata": {},
   "outputs": [
    {
     "name": "stdout",
     "output_type": "stream",
     "text": [
      "scene-0061, Parked truck, construction, intersectio... [18-07-24 03:28:47]   19s, singapore-onenorth, #anns:4622\n",
      "scene-0103, Many peds right, wait for turning car, ... [18-08-01 19:26:43]   19s, boston-seaport, #anns:2046\n",
      "scene-0655, Parking lot, parked cars, jaywalker, be... [18-08-27 15:51:32]   20s, boston-seaport, #anns:2332\n",
      "scene-0553, Wait at intersection, bicycle, large tr... [18-08-28 20:48:16]   20s, boston-seaport, #anns:1950\n",
      "scene-0757, Arrive at busy intersection, bus, wait ... [18-08-30 19:25:08]   20s, boston-seaport, #anns:592\n",
      "scene-0796, Scooter, peds on sidewalk, bus, cars, t... [18-10-02 02:52:24]   20s, singapore-queensto, #anns:708\n",
      "scene-0916, Parking lot, bicycle rack, parked bicyc... [18-10-08 07:37:13]   20s, singapore-queensto, #anns:2387\n",
      "scene-1077, Night, big street, bus stop, high speed... [18-11-21 11:39:27]   20s, singapore-hollandv, #anns:890\n",
      "scene-1094, Night, after rain, many peds, PMD, ped ... [18-11-21 11:47:27]   19s, singapore-hollandv, #anns:1762\n",
      "scene-1100, Night, peds in sidewalk, peds cross cro... [18-11-21 11:49:47]   19s, singapore-hollandv, #anns:935\n"
     ]
    }
   ],
   "source": [
    "nusc.list_scenes()"
   ]
  },
  {
   "cell_type": "code",
   "execution_count": 5,
   "id": "ed4361c8-a829-45a8-914f-b7f42f48f068",
   "metadata": {},
   "outputs": [
    {
     "name": "stdout",
     "output_type": "stream",
     "text": [
      "Help on NuScenes in module nuscenes.nuscenes object:\n",
      "\n",
      "class NuScenes(builtins.object)\n",
      " |  NuScenes(version: str = 'v1.0-mini', dataroot: str = '/data/sets/nuscenes', verbose: bool = True, map_resolution: float = 0.1)\n",
      " |  \n",
      " |  Database class for nuScenes to help query and retrieve information from the database.\n",
      " |  \n",
      " |  Methods defined here:\n",
      " |  \n",
      " |  __init__(self, version: str = 'v1.0-mini', dataroot: str = '/data/sets/nuscenes', verbose: bool = True, map_resolution: float = 0.1)\n",
      " |      Loads database and creates reverse indexes and shortcuts.\n",
      " |      :param version: Version to load (e.g. \"v1.0\", ...).\n",
      " |      :param dataroot: Path to the tables and data.\n",
      " |      :param verbose: Whether to print status messages during load.\n",
      " |      :param map_resolution: Resolution of maps (meters).\n",
      " |  \n",
      " |  __load_table__(self, table_name) -> dict\n",
      " |      Loads a table.\n",
      " |  \n",
      " |  __make_reverse_index__(self, verbose: bool) -> None\n",
      " |      De-normalizes database to create reverse indices for common cases.\n",
      " |      :param verbose: Whether to print outputs.\n",
      " |  \n",
      " |  box_velocity(self, sample_annotation_token: str, max_time_diff: float = 1.5) -> numpy.ndarray\n",
      " |      Estimate the velocity for an annotation.\n",
      " |      If possible, we compute the centered difference between the previous and next frame.\n",
      " |      Otherwise we use the difference between the current and previous/next frame.\n",
      " |      If the velocity cannot be estimated, values are set to np.nan.\n",
      " |      :param sample_annotation_token: Unique sample_annotation identifier.\n",
      " |      :param max_time_diff: Max allowed time diff between consecutive samples that are used to estimate velocities.\n",
      " |      :return: <np.float: 3>. Velocity in x/y/z direction in m/s.\n",
      " |  \n",
      " |  field2token(self, table_name: str, field: str, query) -> List[str]\n",
      " |      This function queries all records for a certain field value, and returns the tokens for the matching records.\n",
      " |      Warning: this runs in linear time.\n",
      " |      :param table_name: Table name.\n",
      " |      :param field: Field name. See README.md for details.\n",
      " |      :param query: Query to match against. Needs to type match the content of the query field.\n",
      " |      :return: List of tokens for the matching records.\n",
      " |  \n",
      " |  get(self, table_name: str, token: str) -> dict\n",
      " |      Returns a record from table in constant runtime.\n",
      " |      :param table_name: Table name.\n",
      " |      :param token: Token of the record.\n",
      " |      :return: Table record. See README.md for record details for each table.\n",
      " |  \n",
      " |  get_box(self, sample_annotation_token: str) -> nuscenes.utils.data_classes.Box\n",
      " |      Instantiates a Box class from a sample annotation record.\n",
      " |      :param sample_annotation_token: Unique sample_annotation identifier.\n",
      " |  \n",
      " |  get_boxes(self, sample_data_token: str) -> List[nuscenes.utils.data_classes.Box]\n",
      " |      Instantiates Boxes for all annotation for a particular sample_data record. If the sample_data is a\n",
      " |      keyframe, this returns the annotations for that sample. But if the sample_data is an intermediate\n",
      " |      sample_data, a linear interpolation is applied to estimate the location of the boxes at the time the\n",
      " |      sample_data was captured.\n",
      " |      :param sample_data_token: Unique sample_data identifier.\n",
      " |  \n",
      " |  get_sample_data(self, sample_data_token: str, box_vis_level: nuscenes.utils.geometry_utils.BoxVisibility = <BoxVisibility.ANY: 1>, selected_anntokens: List[str] = None, use_flat_vehicle_coordinates: bool = False) -> Tuple[str, List[nuscenes.utils.data_classes.Box], <built-in function array>]\n",
      " |      Returns the data path as well as all annotations related to that sample_data.\n",
      " |      Note that the boxes are transformed into the current sensor's coordinate frame.\n",
      " |      :param sample_data_token: Sample_data token.\n",
      " |      :param box_vis_level: If sample_data is an image, this sets required visibility for boxes.\n",
      " |      :param selected_anntokens: If provided only return the selected annotation.\n",
      " |      :param use_flat_vehicle_coordinates: Instead of the current sensor's coordinate frame, use ego frame which is\n",
      " |                                           aligned to z-plane in the world.\n",
      " |      :return: (data_path, boxes, camera_intrinsic <np.array: 3, 3>)\n",
      " |  \n",
      " |  get_sample_data_path(self, sample_data_token: str) -> str\n",
      " |      Returns the path to a sample_data.\n",
      " |  \n",
      " |  get_sample_lidarseg_stats(self, sample_token: str, sort_by: str = 'count', lidarseg_preds_bin_path: str = None, gt_from: str = 'lidarseg') -> None\n",
      " |      Print the number of points for each class in the lidar pointcloud of a sample. Classes with have no\n",
      " |      points in the pointcloud will not be printed.\n",
      " |      :param sample_token: Sample token.\n",
      " |      :param sort_by: One of three options: count / name / index. If 'count`, the stats will be printed in\n",
      " |                      ascending order of frequency; if `name`, the stats will be printed alphabetically\n",
      " |                      according to class name; if `index`, the stats will be printed in ascending order of\n",
      " |                      class index.\n",
      " |      :param lidarseg_preds_bin_path: A path to the .bin file which contains the user's lidar segmentation\n",
      " |                                      predictions for the sample.\n",
      " |      :param gt_from: 'lidarseg' or 'panoptic', ground truth source of point semantic labels.\n",
      " |  \n",
      " |  getind(self, table_name: str, token: str) -> int\n",
      " |      This returns the index of the record in a table in constant runtime.\n",
      " |      :param table_name: Table name.\n",
      " |      :param token: Token of the record.\n",
      " |      :return: The index of the record in table, table is an array.\n",
      " |  \n",
      " |  list_attributes(self) -> None\n",
      " |  \n",
      " |  list_categories(self) -> None\n",
      " |  \n",
      " |  list_lidarseg_categories(self, sort_by: str = 'count', gt_from: str = 'lidarseg') -> None\n",
      " |  \n",
      " |  list_panoptic_instances(self, sort_by: str = 'count', get_hist: bool = False) -> None\n",
      " |  \n",
      " |  list_sample(self, sample_token: str) -> None\n",
      " |  \n",
      " |  list_scenes(self) -> None\n",
      " |  \n",
      " |  load_lidarseg_cat_name_mapping(self)\n",
      " |      Create mapping from class index to class name, and vice versa, for easy lookup later on\n",
      " |  \n",
      " |  render_annotation(self, sample_annotation_token: str, margin: float = 10, view: numpy.ndarray = array([[1., 0., 0., 0.],\n",
      " |         [0., 1., 0., 0.],\n",
      " |         [0., 0., 1., 0.],\n",
      " |         [0., 0., 0., 1.]]), box_vis_level: nuscenes.utils.geometry_utils.BoxVisibility = <BoxVisibility.ANY: 1>, out_path: str = None, extra_info: bool = False) -> None\n",
      " |  \n",
      " |  render_egoposes_on_map(self, log_location: str, scene_tokens: List = None, out_path: str = None) -> None\n",
      " |  \n",
      " |  render_instance(self, instance_token: str, margin: float = 10, view: numpy.ndarray = array([[1., 0., 0., 0.],\n",
      " |         [0., 1., 0., 0.],\n",
      " |         [0., 0., 1., 0.],\n",
      " |         [0., 0., 0., 1.]]), box_vis_level: nuscenes.utils.geometry_utils.BoxVisibility = <BoxVisibility.ANY: 1>, out_path: str = None, extra_info: bool = False) -> None\n",
      " |  \n",
      " |  render_pointcloud_in_image(self, sample_token: str, dot_size: int = 5, pointsensor_channel: str = 'LIDAR_TOP', camera_channel: str = 'CAM_FRONT', out_path: str = None, render_intensity: bool = False, show_lidarseg: bool = False, filter_lidarseg_labels: List = None, show_lidarseg_legend: bool = False, verbose: bool = True, lidarseg_preds_bin_path: str = None, show_panoptic: bool = False) -> None\n",
      " |  \n",
      " |  render_sample(self, sample_token: str, box_vis_level: nuscenes.utils.geometry_utils.BoxVisibility = <BoxVisibility.ANY: 1>, nsweeps: int = 1, out_path: str = None, show_lidarseg: bool = False, filter_lidarseg_labels: List = None, lidarseg_preds_bin_path: str = None, verbose: bool = True, show_panoptic: bool = False) -> None\n",
      " |  \n",
      " |  render_sample_data(self, sample_data_token: str, with_anns: bool = True, box_vis_level: nuscenes.utils.geometry_utils.BoxVisibility = <BoxVisibility.ANY: 1>, axes_limit: float = 40, ax: matplotlib.axes._axes.Axes = None, nsweeps: int = 1, out_path: str = None, underlay_map: bool = True, use_flat_vehicle_coordinates: bool = True, show_lidarseg: bool = False, show_lidarseg_legend: bool = False, filter_lidarseg_labels: List = None, lidarseg_preds_bin_path: str = None, verbose: bool = True, show_panoptic: bool = False) -> None\n",
      " |  \n",
      " |  render_scene(self, scene_token: str, freq: float = 10, imsize: Tuple[float, float] = (640, 360), out_path: str = None) -> None\n",
      " |  \n",
      " |  render_scene_channel(self, scene_token: str, channel: str = 'CAM_FRONT', freq: float = 10, imsize: Tuple[float, float] = (640, 360), out_path: str = None) -> None\n",
      " |  \n",
      " |  render_scene_channel_lidarseg(self, scene_token: str, channel: str, out_folder: str = None, filter_lidarseg_labels: Iterable[int] = None, with_anns: bool = False, render_mode: str = None, verbose: bool = True, imsize: Tuple[int, int] = (640, 360), freq: float = 2, dpi: int = 150, lidarseg_preds_folder: str = None, show_panoptic: bool = False) -> None\n",
      " |  \n",
      " |  render_scene_lidarseg(self, scene_token: str, out_path: str = None, filter_lidarseg_labels: Iterable[int] = None, with_anns: bool = False, imsize: Tuple[int, int] = (640, 360), freq: float = 2, verbose: bool = True, dpi: int = 200, lidarseg_preds_folder: str = None, show_panoptic: bool = False) -> None\n",
      " |  \n",
      " |  ----------------------------------------------------------------------\n",
      " |  Readonly properties defined here:\n",
      " |  \n",
      " |  table_root\n",
      " |      Returns the folder where the tables are stored for the relevant version.\n",
      " |  \n",
      " |  ----------------------------------------------------------------------\n",
      " |  Data descriptors defined here:\n",
      " |  \n",
      " |  __dict__\n",
      " |      dictionary for instance variables (if defined)\n",
      " |  \n",
      " |  __weakref__\n",
      " |      list of weak references to the object (if defined)\n",
      "\n"
     ]
    }
   ],
   "source": [
    "help(nusc)"
   ]
  },
  {
   "cell_type": "code",
   "execution_count": 15,
   "id": "81e94c12-fe14-491a-841d-60dd97e19c32",
   "metadata": {},
   "outputs": [
    {
     "data": {
      "text/plain": [
       "404"
      ]
     },
     "execution_count": 15,
     "metadata": {},
     "output_type": "execute_result"
    }
   ],
   "source": [
    "len(nusc.sample)"
   ]
  },
  {
   "cell_type": "code",
   "execution_count": 19,
   "id": "804fd3a3-177f-4fef-bfad-0877915f61e0",
   "metadata": {},
   "outputs": [
    {
     "data": {
      "text/plain": [
       "{'token': 'ca9a282c9e77460f8360f564131a8af5',\n",
       " 'timestamp': 1532402927647951,\n",
       " 'prev': '',\n",
       " 'next': '39586f9d59004284a7114a68825e8eec',\n",
       " 'scene_token': 'cc8c0bf57f984915a77078b10eb33198',\n",
       " 'data': {'RADAR_FRONT': '37091c75b9704e0daa829ba56dfa0906',\n",
       "  'RADAR_FRONT_LEFT': '11946c1461d14016a322916157da3c7d',\n",
       "  'RADAR_FRONT_RIGHT': '491209956ee3435a9ec173dad3aaf58b',\n",
       "  'RADAR_BACK_LEFT': '312aa38d0e3e4f01b3124c523e6f9776',\n",
       "  'RADAR_BACK_RIGHT': '07b30d5eb6104e79be58eadf94382bc1',\n",
       "  'LIDAR_TOP': '9d9bf11fb0e144c8b446d54a8a00184f',\n",
       "  'CAM_FRONT': 'e3d495d4ac534d54b321f50006683844',\n",
       "  'CAM_FRONT_RIGHT': 'aac7867ebf4f446395d29fbd60b63b3b',\n",
       "  'CAM_BACK_RIGHT': '79dbb4460a6b40f49f9c150cb118247e',\n",
       "  'CAM_BACK': '03bea5763f0f4722933508d5999c5fd8',\n",
       "  'CAM_BACK_LEFT': '43893a033f9c46d4a51b5e08a67a1eb7',\n",
       "  'CAM_FRONT_LEFT': 'fe5422747a7d4268a4b07fc396707b23'},\n",
       " 'anns': ['ef63a697930c4b20a6b9791f423351da',\n",
       "  '6b89da9bf1f84fd6a5fbe1c3b236f809',\n",
       "  '924ee6ac1fed440a9d9e3720aac635a0',\n",
       "  '91e3608f55174a319246f361690906ba',\n",
       "  'cd051723ed9c40f692b9266359f547af',\n",
       "  '36d52dfedd764b27863375543c965376',\n",
       "  '70af124fceeb433ea73a79537e4bea9e',\n",
       "  '63b89fe17f3e41ecbe28337e0e35db8e',\n",
       "  'e4a3582721c34f528e3367f0bda9485d',\n",
       "  'fcb2332977ed4203aa4b7e04a538e309',\n",
       "  'a0cac1c12246451684116067ae2611f6',\n",
       "  '02248ff567e3497c957c369dc9a1bd5c',\n",
       "  '9db977e264964c2887db1e37113cddaa',\n",
       "  'ca9c5dd6cf374aa980fdd81022f016fd',\n",
       "  '179b8b54ee74425893387ebc09ee133d',\n",
       "  '5b990ac640bf498ca7fd55eaf85d3e12',\n",
       "  '16140fbf143d4e26a4a7613cbd3aa0e8',\n",
       "  '54939f11a73d4398b14aeef500bf0c23',\n",
       "  '83d881a6b3d94ef3a3bc3b585cc514f8',\n",
       "  '74986f1604f047b6925d409915265bf7',\n",
       "  'e86330c5538c4858b8d3ffe874556cc5',\n",
       "  'a7bd5bb89e27455bbb3dba89a576b6a1',\n",
       "  'fbd9d8c939b24f0eb6496243a41e8c41',\n",
       "  '198023a1fb5343a5b6fad033ab8b7057',\n",
       "  'ffeafb90ecd5429cba23d0be9a5b54ee',\n",
       "  'cc636a58e27e446cbdd030c14f3718fd',\n",
       "  '076a7e3ec6244d3b84e7df5ebcbac637',\n",
       "  '0603fbaef1234c6c86424b163d2e3141',\n",
       "  'd76bd5dcc62f4c57b9cece1c7bcfabc5',\n",
       "  '5acb6c71bcd64aa188804411b28c4c8f',\n",
       "  '49b74a5f193c4759b203123b58ca176d',\n",
       "  '77519174b48f4853a895f58bb8f98661',\n",
       "  'c5e9455e98bb42c0af7d1990db1df0c9',\n",
       "  'fcc5b4b5c4724179ab24962a39ca6d65',\n",
       "  '791d1ca7e228433fa50b01778c32449a',\n",
       "  '316d20eb238c43ef9ee195642dd6e3fe',\n",
       "  'cda0a9085607438c9b1ea87f4360dd64',\n",
       "  'e865152aaa194f22b97ad0078c012b21',\n",
       "  '7962506dbc24423aa540a5e4c7083dad',\n",
       "  '29cca6a580924b72a90b9dd6e7710d3e',\n",
       "  'a6f7d4bb60374f868144c5ba4431bf4c',\n",
       "  'f1ae3f713ba946069fa084a6b8626fbf',\n",
       "  'd7af8ede316546f68d4ab4f3dbf03f88',\n",
       "  '91cb8f15ed4444e99470d43515e50c1d',\n",
       "  'bc638d33e89848f58c0b3ccf3900c8bb',\n",
       "  '26fb370c13f844de9d1830f6176ebab6',\n",
       "  '7e66fdf908d84237943c833e6c1b317a',\n",
       "  '67c5dbb3ddcc4aff8ec5140930723c37',\n",
       "  'eaf2532c820740ae905bb7ed78fb1037',\n",
       "  '3e2d17fa9aa5484d9cabc1dfca532193',\n",
       "  'de6bd5ffbed24aa59c8891f8d9c32c44',\n",
       "  '9d51d699f635478fbbcd82a70396dd62',\n",
       "  'b7cbc6d0e80e4dfda7164871ece6cb71',\n",
       "  '563a3f547bd64a2f9969278c5ef447fd',\n",
       "  'df8917888b81424f8c0670939e61d885',\n",
       "  'bb3ef5ced8854640910132b11b597348',\n",
       "  'a522ce1d7f6545d7955779f25d01783b',\n",
       "  '1fafb2468af5481ca9967407af219c32',\n",
       "  '05de82bdb8484623906bb9d97ae87542',\n",
       "  'bfedb0d85e164b7697d1e72dd971fb72',\n",
       "  'ca0f85b4f0d44beb9b7ff87b1ab37ff5',\n",
       "  'bca4bbfdef3d4de980842f28be80b3ca',\n",
       "  'a834fb0389a8453c810c3330e3503e16',\n",
       "  '6c804cb7d78943b195045082c5c2d7fa',\n",
       "  'adf1594def9e4722b952fea33b307937',\n",
       "  '49f76277d07541c5a584aa14c9d28754',\n",
       "  '15a3b4d60b514db5a3468e2aef72a90c',\n",
       "  '18cc2837f2b9457c80af0761a0b83ccc',\n",
       "  '2bfcc693ae9946daba1d9f2724478fd4']}"
      ]
     },
     "execution_count": 19,
     "metadata": {},
     "output_type": "execute_result"
    }
   ],
   "source": [
    "nusc.sample[0]"
   ]
  },
  {
   "cell_type": "code",
   "execution_count": 20,
   "id": "2e24a35b-cd4b-479e-9312-179de69d610f",
   "metadata": {},
   "outputs": [
    {
     "data": {
      "text/plain": [
       "{'RADAR_FRONT': '37091c75b9704e0daa829ba56dfa0906',\n",
       " 'RADAR_FRONT_LEFT': '11946c1461d14016a322916157da3c7d',\n",
       " 'RADAR_FRONT_RIGHT': '491209956ee3435a9ec173dad3aaf58b',\n",
       " 'RADAR_BACK_LEFT': '312aa38d0e3e4f01b3124c523e6f9776',\n",
       " 'RADAR_BACK_RIGHT': '07b30d5eb6104e79be58eadf94382bc1',\n",
       " 'LIDAR_TOP': '9d9bf11fb0e144c8b446d54a8a00184f',\n",
       " 'CAM_FRONT': 'e3d495d4ac534d54b321f50006683844',\n",
       " 'CAM_FRONT_RIGHT': 'aac7867ebf4f446395d29fbd60b63b3b',\n",
       " 'CAM_BACK_RIGHT': '79dbb4460a6b40f49f9c150cb118247e',\n",
       " 'CAM_BACK': '03bea5763f0f4722933508d5999c5fd8',\n",
       " 'CAM_BACK_LEFT': '43893a033f9c46d4a51b5e08a67a1eb7',\n",
       " 'CAM_FRONT_LEFT': 'fe5422747a7d4268a4b07fc396707b23'}"
      ]
     },
     "execution_count": 20,
     "metadata": {},
     "output_type": "execute_result"
    }
   ],
   "source": [
    "nusc.sample[0]['data']"
   ]
  },
  {
   "cell_type": "code",
   "execution_count": 18,
   "id": "05b9062b-439a-49f8-a7e6-798d653e4ad7",
   "metadata": {},
   "outputs": [
    {
     "data": {
      "text/plain": [
       "{'token': 'e3d495d4ac534d54b321f50006683844',\n",
       " 'sample_token': 'ca9a282c9e77460f8360f564131a8af5',\n",
       " 'ego_pose_token': 'e3d495d4ac534d54b321f50006683844',\n",
       " 'calibrated_sensor_token': '1d31c729b073425e8e0202c5c6e66ee1',\n",
       " 'timestamp': 1532402927612460,\n",
       " 'fileformat': 'jpg',\n",
       " 'is_key_frame': True,\n",
       " 'height': 900,\n",
       " 'width': 1600,\n",
       " 'filename': 'samples/CAM_FRONT/n015-2018-07-24-11-22-45+0800__CAM_FRONT__1532402927612460.jpg',\n",
       " 'prev': '',\n",
       " 'next': '68e8e98cf7b0487baa139df808641db7',\n",
       " 'sensor_modality': 'camera',\n",
       " 'channel': 'CAM_FRONT'}"
      ]
     },
     "execution_count": 18,
     "metadata": {},
     "output_type": "execute_result"
    }
   ],
   "source": [
    "sensor = 'CAM_FRONT'\n",
    "cam_front_data = nusc.get('sample_data', nusc.sample[0]['data'][sensor])\n",
    "cam_front_data"
   ]
  },
  {
   "cell_type": "code",
   "execution_count": 127,
   "id": "4499879b-c93e-4acb-a50e-0a75192f4848",
   "metadata": {},
   "outputs": [
    {
     "data": {
      "text/plain": [
       "{'token': '1d31c729b073425e8e0202c5c6e66ee1',\n",
       " 'sensor_token': '725903f5b62f56118f4094b46a4470d8',\n",
       " 'translation': [1.70079118954, 0.0159456324149, 1.51095763913],\n",
       " 'rotation': [0.4998015430569128,\n",
       "  -0.5030316162024876,\n",
       "  0.4997798114386805,\n",
       "  -0.49737083824542755],\n",
       " 'camera_intrinsic': [[1266.417203046554, 0.0, 816.2670197447984],\n",
       "  [0.0, 1266.417203046554, 491.50706579294757],\n",
       "  [0.0, 0.0, 1.0]]}"
      ]
     },
     "execution_count": 127,
     "metadata": {},
     "output_type": "execute_result"
    }
   ],
   "source": [
    "sample = nusc.sample[1]\n",
    "sample_data = nusc.get('sample_data', sample['data']['CAM_FRONT'])\n",
    "calibrated_sensor = nusc.get('calibrated_sensor', sample_data['calibrated_sensor_token'])\n",
    "calibrated_sensor"
   ]
  },
  {
   "cell_type": "code",
   "execution_count": 128,
   "id": "4058c49a-379e-4b7d-9bf2-5798044fc2cd",
   "metadata": {},
   "outputs": [],
   "source": [
    "from scipy.spatial.transform import Rotation as R\n",
    "import numpy as np\n",
    "r = R.from_quat(calibrated_sensor['rotation'])\n",
    "r = r.as_matrix()\n",
    "t = np.array(calibrated_sensor['translation']).reshape(3, 1)\n",
    "r_t = np.hstack((r, t))"
   ]
  },
  {
   "cell_type": "code",
   "execution_count": 129,
   "id": "db2d5bef-d980-405b-9ee1-7cd014ce88b5",
   "metadata": {},
   "outputs": [
    {
     "name": "stdout",
     "output_type": "stream",
     "text": [
      "Rotation Matrix:\n",
      " [[ 5.68477868e-03 -5.63666773e-03  9.99967955e-01]\n",
      " [-9.99983517e-01 -8.37115272e-04  5.68014846e-03]\n",
      " [ 8.05071338e-04 -9.99983763e-01 -5.64133364e-03]]\n"
     ]
    }
   ],
   "source": [
    "from pyquaternion import Quaternion\n",
    "\n",
    "# Assuming calibrated_sensor['rotation'] is a list or tuple of quaternion components\n",
    "q = Quaternion(calibrated_sensor['rotation'])\n",
    "\n",
    "# Convert to rotation matrix\n",
    "rotation_matrix = q.rotation_matrix\n",
    "\n",
    "print(\"Rotation Matrix:\\n\", rotation_matrix)\n"
   ]
  },
  {
   "cell_type": "code",
   "execution_count": 130,
   "id": "b8f289b7-b253-45ce-990b-9272824cea41",
   "metadata": {},
   "outputs": [
    {
     "data": {
      "text/plain": [
       "array([[-5.64133364e-03, -5.68014846e-03,  9.99967955e-01],\n",
       "       [-9.99983763e-01,  8.37115272e-04, -5.63666773e-03],\n",
       "       [-8.05071338e-04, -9.99983517e-01, -5.68477868e-03]])"
      ]
     },
     "execution_count": 130,
     "metadata": {},
     "output_type": "execute_result"
    }
   ],
   "source": [
    "r"
   ]
  },
  {
   "cell_type": "code",
   "execution_count": 131,
   "id": "5f50d983-a1e0-4bd8-b0a7-98415e2a228d",
   "metadata": {},
   "outputs": [
    {
     "data": {
      "text/plain": [
       "array([[1.70079119],\n",
       "       [0.01594563],\n",
       "       [1.51095764]])"
      ]
     },
     "execution_count": 131,
     "metadata": {},
     "output_type": "execute_result"
    }
   ],
   "source": [
    "t"
   ]
  },
  {
   "cell_type": "code",
   "execution_count": 132,
   "id": "7447cf81-7d07-4565-a463-f7b1e9c286d4",
   "metadata": {},
   "outputs": [
    {
     "data": {
      "text/plain": [
       "array([[-5.64133364e-03, -5.68014846e-03,  9.99967955e-01,\n",
       "         1.70079119e+00],\n",
       "       [-9.99983763e-01,  8.37115272e-04, -5.63666773e-03,\n",
       "         1.59456324e-02],\n",
       "       [-8.05071338e-04, -9.99983517e-01, -5.68477868e-03,\n",
       "         1.51095764e+00]])"
      ]
     },
     "execution_count": 132,
     "metadata": {},
     "output_type": "execute_result"
    }
   ],
   "source": [
    "r_t"
   ]
  },
  {
   "cell_type": "code",
   "execution_count": 154,
   "id": "ad222a63-a38f-40eb-b664-1ea31991c1d6",
   "metadata": {},
   "outputs": [],
   "source": [
    "import matplotlib.pyplot as plt\n",
    "from mpl_toolkits.mplot3d import Axes3D\n",
    "import numpy as np\n",
    "from pyquaternion import Quaternion\n",
    "\n",
    "camera_list = ['CAM_FRONT', 'CAM_FRONT_LEFT', 'CAM_FRONT_RIGHT', 'CAM_BACK', 'CAM_BACK_LEFT', 'CAM_BACK_RIGHT' ]\n",
    "sample = nusc.sample[0]\n",
    "sample_data = sample['data']\n",
    "r_t_matrices = []\n",
    "for camera_name in camera_list:\n",
    "    camera_token = sample_data[camera_name]\n",
    "    camera_data = nusc.get('sample_data', camera_token)\n",
    "    calibrated_sensor = nusc.get('calibrated_sensor', camera_data['calibrated_sensor_token'])\n",
    "    r = np.array(Quaternion(calibrated_sensor['rotation']).rotation_matrix).reshape(3, 3)\n",
    "    t = np.array(calibrated_sensor['translation']).reshape(3, 1)\n",
    "    r_t = np.hstack((r, t))\n",
    "    r_t_matrices.append(r_t)"
   ]
  },
  {
   "cell_type": "code",
   "execution_count": 155,
   "id": "43dbd770-165c-4d8b-a7e5-bdf6b2c0a0f0",
   "metadata": {},
   "outputs": [
    {
     "data": {
      "application/vnd.jupyter.widget-view+json": {
       "model_id": "f73a85dea37b4b00befc70a5492c94b4",
       "version_major": 2,
       "version_minor": 0
      },
      "text/plain": [
       "interactive(children=(Output(),), _dom_classes=('widget-interact',))"
      ]
     },
     "execution_count": 155,
     "metadata": {},
     "output_type": "execute_result"
    }
   ],
   "source": [
    "import matplotlib.pyplot as plt\n",
    "from mpl_toolkits.mplot3d import Axes3D\n",
    "import numpy as np\n",
    "import ipywidgets as widgets\n",
    "from IPython.display import display\n",
    "\n",
    "# Function to create the 3D plot\n",
    "def plot_camera_frames():\n",
    "    fig = plt.figure(figsize=(10, 8))\n",
    "    ax = fig.add_subplot(111, projection='3d')\n",
    "    ax.set_xlabel('X')\n",
    "    ax.set_ylabel('Y')\n",
    "    ax.set_zlabel('Z')\n",
    "    ax.set_title('Camera Coordinate Frames')\n",
    "\n",
    "    # Axis unit vectors\n",
    "    axis_vectors = np.array([[1, 0, 0], [0, 1, 0], [0, 0, 1]]) * 0.1\n",
    "    # Colors for each axis\n",
    "    axis_colors = ['r', 'g', 'b']\n",
    "\n",
    "    # Plot each R|T matrix\n",
    "    for i, r_t in enumerate(r_t_matrices):\n",
    "        r = r_t[:, :3]  # Rotation matrix\n",
    "        t = r_t[:, 3]   # Translation vector\n",
    "\n",
    "        # Transform and plot each axis\n",
    "        for axis, color in zip(axis_vectors, axis_colors):\n",
    "            transformed_axis = r @ axis\n",
    "            ax.quiver(t[0], t[1], t[2], transformed_axis[0], transformed_axis[1], transformed_axis[2], color=color)\n",
    "\n",
    "        # Label the camera position\n",
    "        ax.text(t[0], t[1], t[2], f'Camera {i+1}', color='k')\n",
    "\n",
    "    plt.show()\n",
    "\n",
    "# Use ipywidgets to create an interactive plot\n",
    "widgets.interactive(plot_camera_frames)\n"
   ]
  },
  {
   "cell_type": "code",
   "execution_count": 133,
   "id": "4e80ed90-51c9-4a74-849b-d1c0d72fac0d",
   "metadata": {},
   "outputs": [
    {
     "name": "stdout",
     "output_type": "stream",
     "text": [
      "[[-5.64133364e-03 -5.68014846e-03  9.99967955e-01  1.70079119e+00]\n",
      " [-9.99983763e-01  8.37115272e-04 -5.63666773e-03  1.59456324e-02]\n",
      " [-8.05071338e-04 -9.99983517e-01 -5.68477868e-03  1.51095764e+00]]\n"
     ]
    }
   ],
   "source": [
    "print(r_t_matrices[0])"
   ]
  },
  {
   "cell_type": "code",
   "execution_count": 138,
   "id": "05cd0e15-cf16-4816-b42f-0b4eefd63583",
   "metadata": {},
   "outputs": [
    {
     "name": "stdout",
     "output_type": "stream",
     "text": [
      "[[ 2.44737995e-03 -8.20754770e-01  5.71275430e-01  1.52387798e+00]\n",
      " [-9.99994759e-01 -3.21950185e-03 -3.41436671e-04  4.94631337e-01]\n",
      " [ 2.11945808e-03 -5.71271601e-01 -8.20758348e-01  1.50932822e+00]]\n"
     ]
    }
   ],
   "source": [
    "print(r_t_matrices[5])"
   ]
  },
  {
   "cell_type": "code",
   "execution_count": 134,
   "id": "54002ee0-4e50-4bd4-92e4-5317da691a50",
   "metadata": {},
   "outputs": [
    {
     "name": "stdout",
     "output_type": "stream",
     "text": [
      "[[-1.36479031e-02  8.32817742e-01  5.53379023e-01  1.55084775e+00]\n",
      " [-9.99865858e-01 -1.63788158e-02 -9.94603768e-06 -4.93404796e-01]\n",
      " [ 9.05540984e-03 -5.53304927e-01  8.32929563e-01  1.49574801e+00]]\n"
     ]
    }
   ],
   "source": [
    "print(r_t_matrices[1])"
   ]
  },
  {
   "cell_type": "code",
   "execution_count": 135,
   "id": "e4f3734a-3cb6-41e8-b946-f497ee59f399",
   "metadata": {},
   "outputs": [
    {
     "name": "stdout",
     "output_type": "stream",
     "text": [
      "[[-0.01626597  0.93476883 -0.35488399  1.0148781 ]\n",
      " [-0.99980932 -0.0113705   0.01587584 -0.48056822]\n",
      " [ 0.01080503  0.35507456  0.93477554  1.56239545]]\n"
     ]
    }
   ],
   "source": [
    "print(r_t_matrices[2])"
   ]
  },
  {
   "cell_type": "code",
   "execution_count": 137,
   "id": "e5bce331-96d7-4050-b766-66748fa4660a",
   "metadata": {},
   "outputs": [
    {
     "name": "stdout",
     "output_type": "stream",
     "text": [
      "[[ 0.01674384 -0.00248837 -0.99985672  0.02832603]\n",
      " [-0.99985181  0.00395911 -0.01675361  0.00345137]\n",
      " [ 0.00400023  0.99998907 -0.00242171  1.57910346]]\n"
     ]
    }
   ],
   "source": [
    "print(r_t_matrices[3])"
   ]
  },
  {
   "cell_type": "code",
   "execution_count": 32,
   "id": "e441ffb3-c95e-4aac-81a8-1c49b77c9272",
   "metadata": {},
   "outputs": [
    {
     "name": "stdout",
     "output_type": "stream",
     "text": [
      "[0.7915107519040963, 1.4071302256072822, 0.510166887340499, 0.5461189619921639]\n"
     ]
    }
   ],
   "source": [
    "calibrated_camera = calibrated_sensor\n",
    "focal_length_x = calibrated_camera['camera_intrinsic'][0][0] / cam_front_data['width']\n",
    "focal_length_y = calibrated_camera['camera_intrinsic'][1][1] / cam_front_data['height']\n",
    "principal_point_x = calibrated_camera['camera_intrinsic'][0][2] / cam_front_data['width']\n",
    "principal_point_y = calibrated_camera['camera_intrinsic'][1][2] / cam_front_data['height']\n",
    "print([focal_length_x, focal_length_y, principal_point_x, principal_point_y])"
   ]
  },
  {
   "cell_type": "code",
   "execution_count": 22,
   "id": "5b78b125-246b-474e-8f68-d8fe6c2076f1",
   "metadata": {},
   "outputs": [
    {
     "data": {
      "text/plain": [
       "'/root/LSM/data/nuscenes/samples/CAM_FRONT/n015-2018-07-24-11-22-45+0800__CAM_FRONT__1532402927612460.jpg'"
      ]
     },
     "execution_count": 22,
     "metadata": {},
     "output_type": "execute_result"
    }
   ],
   "source": [
    "import os\n",
    "dataroot='/root/LSM/data/nuscenes'\n",
    "filepath = os.path.join(dataroot, cam_front_data['filename'])\n",
    "filepath"
   ]
  },
  {
   "cell_type": "code",
   "execution_count": 103,
   "id": "2bc1e14d-12c1-41ae-834d-396d4c1dea58",
   "metadata": {},
   "outputs": [],
   "source": [
    "import os\n",
    "import numpy as np\n",
    "import random\n",
    "from pyquaternion import Quaternion\n",
    "\n",
    "dataroot = '/root/LSM/data/nuscenes'\n",
    "meta_dataroot = '/root/LSM/data/nuscenes/meta_data'\n",
    "camera_list = ['CAM_FRONT', 'CAM_FRONT_LEFT', 'CAM_FRONT_RIGHT', 'CAM_BACK', 'CAM_BACK_LEFT', 'CAM_BACK_RIGHT' ]\n",
    "\n",
    "# Ensure the randomness is reproducible\n",
    "random.seed(42)\n",
    "\n",
    "# Shuffle the list of samples\n",
    "samples = list(nusc.sample)  # Assuming nusc.sample is a list-like object\n",
    "random.shuffle(samples)\n",
    "\n",
    "# Calculate split indices\n",
    "num_samples = len(samples)\n",
    "train_end = int(num_samples * 0.7)\n",
    "test_end = train_end + int(num_samples * 0.2)\n",
    "\n",
    "# Split the samples\n",
    "train_samples = samples[:train_end]\n",
    "test_samples = samples[train_end:test_end]\n",
    "val_samples = samples[test_end:]\n",
    "\n",
    "# Function to save samples to files\n",
    "def save_samples(samples, split):\n",
    "    for sample in samples:\n",
    "        sample_token = sample['token']\n",
    "        sample_data = sample['data']\n",
    "\n",
    "        content = [sample_token]\n",
    "\n",
    "        for camera_name in camera_list:\n",
    "            camera_token = sample_data[camera_name]\n",
    "            camera_data = nusc.get('sample_data', camera_token)\n",
    "            calibrated_sensor = nusc.get('calibrated_sensor', camera_data['calibrated_sensor_token'])\n",
    "\n",
    "            r = np.array(Quaternion(calibrated_sensor['rotation']).rotation_matrix).reshape(3, 3)\n",
    "            t = np.array(calibrated_sensor['translation']).reshape(3, 1)\n",
    "            r_t = np.hstack((r, t))\n",
    "\n",
    "            focal_length_x = calibrated_sensor['camera_intrinsic'][0][0] / camera_data['width']\n",
    "            focal_length_y = calibrated_sensor['camera_intrinsic'][1][1] / camera_data['height']\n",
    "            principal_point_x = calibrated_sensor['camera_intrinsic'][0][2] / camera_data['width']\n",
    "            principal_point_y = calibrated_sensor['camera_intrinsic'][1][2] / camera_data['height']\n",
    "\n",
    "            row = [camera_token, focal_length_x, focal_length_y, principal_point_x, principal_point_y, 0, 0] + r_t.flatten().tolist()\n",
    "            content.append(' '.join(map(str, row)))\n",
    "\n",
    "        # Create directories for train, test, val splits if they don't exist\n",
    "        split_dir = os.path.join(meta_dataroot, split)\n",
    "        os.makedirs(split_dir, exist_ok=True)\n",
    "\n",
    "        # Write to a text file in the corresponding split directory\n",
    "        filename = os.path.join(split_dir, f\"{sample_token}.txt\")\n",
    "        with open(filename, 'w') as f:\n",
    "            f.write('\\n'.join(content))\n",
    "\n",
    "# Save the samples to their respective directories\n",
    "save_samples(train_samples, 'train')\n",
    "save_samples(test_samples, 'test')\n",
    "save_samples(val_samples, 'val')\n"
   ]
  },
  {
   "cell_type": "code",
   "execution_count": 48,
   "id": "c0c3eb75-2cfb-45bd-9046-7de3771f8ce0",
   "metadata": {},
   "outputs": [],
   "source": [
    "import subprocess\n",
    "import sys\n",
    "from pathlib import Path\n",
    "from typing import Literal, TypedDict\n",
    "\n",
    "import numpy as np\n",
    "import torch\n",
    "from jaxtyping import Float, Int, UInt8\n",
    "from torch import Tensor\n",
    "from tqdm import tqdm\n",
    "\n",
    "INPUT_METADATA_DIR = Path(\"/root/LSM/data/nuscenes/meta_data\")\n",
    "OUTPUT_DIR = Path(\"/root/LSM/data/nuscenes/pt_data\")"
   ]
  },
  {
   "cell_type": "code",
   "execution_count": 49,
   "id": "0fc1b8e9-71af-4b66-8e21-64997772f22b",
   "metadata": {},
   "outputs": [
    {
     "name": "stderr",
     "output_type": "stream",
     "text": [
      "Indexing metadata: 282it [00:00, 224311.35it/s]\n"
     ]
    },
    {
     "data": {
      "text/plain": [
       "282"
      ]
     },
     "execution_count": 49,
     "metadata": {},
     "output_type": "execute_result"
    }
   ],
   "source": [
    "def get_example_keys(stage: Literal[\"test\", \"train\"]) -> list[str]:\n",
    "    metadata_keys = set(\n",
    "        example.stem\n",
    "        for example in tqdm(\n",
    "            (INPUT_METADATA_DIR / stage).iterdir(), desc=\"Indexing metadata\"\n",
    "        )\n",
    "    )\n",
    "    return metadata_keys\n",
    "\n",
    "def get_size(path: Path) -> int:\n",
    "    \"\"\"Get file or folder size in bytes.\"\"\"\n",
    "    return int(subprocess.check_output([\"du\", \"-b\", path]).split()[0].decode(\"utf-8\"))\n",
    "\n",
    "\n",
    "def load_raw(path: Path) -> UInt8[Tensor, \" length\"]:\n",
    "    return torch.tensor(np.memmap(path, dtype=\"uint8\", mode=\"r\"))\n",
    "    \n",
    "len(get_example_keys('train'))"
   ]
  },
  {
   "cell_type": "code",
   "execution_count": 47,
   "id": "ea7a275c-3848-4a82-a1b2-e074a5bef1c2",
   "metadata": {},
   "outputs": [],
   "source": [
    "class Metadata(TypedDict):\n",
    "    sample_token: str\n",
    "    camera_token: list[str]z\n",
    "    cameras: Float[Tensor, \"camera entry\"]\n",
    "\n",
    "\n",
    "class Example(Metadata):\n",
    "    key: str\n",
    "    images: list[UInt8[Tensor, \"...\"]]\n"
   ]
  },
  {
   "cell_type": "code",
   "execution_count": 67,
   "id": "a46eeeab-423b-45fb-b548-227f9397adfc",
   "metadata": {},
   "outputs": [],
   "source": [
    "def load_metadata(example_path: Path) -> Metadata:\n",
    "    with example_path.open(\"r\") as f:\n",
    "        lines = f.read().splitlines()\n",
    "\n",
    "    sample_token = lines[0]\n",
    "\n",
    "    camera_tokens = []\n",
    "    cameras = []\n",
    "\n",
    "    for line in lines[1:]:\n",
    "        camera_token, *camera = line.split(\" \")\n",
    "        camera_tokens.append(camera_token)\n",
    "        cameras.append(np.fromstring(\",\".join(camera), sep=\",\"))\n",
    "\n",
    "    cameras = torch.tensor(np.stack(cameras), dtype=torch.float32)\n",
    "\n",
    "    return {\n",
    "        \"sample_token\": sample_token,\n",
    "        \"camera_tokens\": camera_tokens,\n",
    "        \"cameras\": cameras,\n",
    "    }\n",
    "\n",
    "meta_data = load_metadata(Path('/root/LSM/data/nuscenes/meta_data/test/0af0feb5b1394b928dd13d648de898f5.txt'))"
   ]
  },
  {
   "cell_type": "code",
   "execution_count": 77,
   "id": "76c3d36d-582d-43c8-8443-28c5aabe01dd",
   "metadata": {},
   "outputs": [
    {
     "data": {
      "text/plain": [
       "{'47bac577996844c78919b53fa36cf1ed': tensor([255, 216, 255,  ...,   1, 255, 217], dtype=torch.uint8),\n",
       " '23a4cf7fb12246e59cc84a451ca09cda': tensor([255, 216, 255,  ...,  31, 255, 217], dtype=torch.uint8),\n",
       " '102c3ca54acd42688fed1089bf62476a': tensor([255, 216, 255,  ...,  31, 255, 217], dtype=torch.uint8),\n",
       " '8866ef398197413f990e1fc12d327d79': tensor([255, 216, 255,  ...,  63, 255, 217], dtype=torch.uint8),\n",
       " '3584e978fca64480ac047fa82b26fe8d': tensor([255, 216, 255,  ..., 127, 255, 217], dtype=torch.uint8),\n",
       " '13f531d217804be7a3e0ccbb5d30e3eb': tensor([255, 216, 255,  ...,  63, 255, 217], dtype=torch.uint8)}"
      ]
     },
     "execution_count": 77,
     "metadata": {},
     "output_type": "execute_result"
    }
   ],
   "source": [
    "def load_images(example_metadata: Metadata) -> dict[int, UInt8[Tensor, \"...\"]]:\n",
    "    \"\"\"Load JPG images as raw bytes (do not decode).\"\"\"\n",
    "    image_path_list = []\n",
    "    for camera_token in example_metadata['camera_tokens']:\n",
    "        image_relative_path = nusc.get('sample_data', camera_token)['filename']\n",
    "        image_path = Path.join(os.path.join(datarootimage_relative_path))\n",
    "        image_path_list.append(image_path)\n",
    "    \n",
    "    return {camera_token: load_raw(path) for path, camera_token in zip(image_path_list, example_metadata['camera_tokens'])}\n",
    "images = load_images(meta_data)"
   ]
  },
  {
   "cell_type": "code",
   "execution_count": 109,
   "id": "cabc0190-0f78-4100-98cf-14875573119a",
   "metadata": {},
   "outputs": [
    {
     "name": "stderr",
     "output_type": "stream",
     "text": [
      "Indexing metadata: 282it [00:00, 30104.19it/s]\n"
     ]
    },
    {
     "name": "stdout",
     "output_type": "stream",
     "text": [
      "    Added 39586f9d59004284a7114a68825e8eec to chunk (0.83 MB).\n",
      "    Added 79937d5eae1d450499677a0dcffa210c to chunk (0.70 MB).\n",
      "    Added 2578329fc3ae484bb23ef766808f4be5 to chunk (0.71 MB).\n",
      "    Added dc03fe4e0a374592af7701c66d5276c4 to chunk (0.72 MB).\n",
      "    Added 614c6962e44240b1b0ebb3eb351fe0eb to chunk (1.72 MB).\n",
      "    Added 356d81f38dd9473ba590f39e266f54e5 to chunk (0.80 MB).\n",
      "    Added a32166aff42946d39455fcbe502a321a to chunk (1.35 MB).\n",
      "    Added c923fe08b2ff4e27975d2bf30934383b to chunk (0.81 MB).\n",
      "    Added 728e3e32df3c413389cb7e233de96ac4 to chunk (0.87 MB).\n",
      "    Added 6873840fc1df4796a7b959e13e9fb78a to chunk (0.72 MB).\n",
      "    Added ecd49e3c38624c77b8aac8df445d49ba to chunk (0.72 MB).\n",
      "    Added daae21dc94b74898a7362922e8792415 to chunk (1.63 MB).\n",
      "    Added 8e9c2cba0ee74056aa3746e8391d54a9 to chunk (0.82 MB).\n",
      "    Added 5c85640c10d9485c86bf6eb44778c002 to chunk (0.70 MB).\n",
      "    Added 4cd162f9083b47d0acd83129a6539c01 to chunk (1.42 MB).\n",
      "    Added 8cc06390249d4895b5b9b860f0952f24 to chunk (1.71 MB).\n",
      "    Added 9e6ce5a26025462fbd9bdac2d18c07eb to chunk (0.79 MB).\n",
      "    Added 00889f8a9549450aa2f32cf310a3e305 to chunk (0.85 MB).\n",
      "    Added 6bfd42cf0aba4f1a94ec11fa43e2dd92 to chunk (0.82 MB).\n",
      "    Added 29e056fc277543c9bc42310b122c640e to chunk (0.90 MB).\n",
      "    Added 0ee7e7691e3e4bd88d43150073906a4f to chunk (1.54 MB).\n",
      "    Added 07175443e8444b8c8c4802fd004e33c1 to chunk (1.47 MB).\n",
      "    Added 372725a4b00e49c78d6d0b1c4a38b6e0 to chunk (0.92 MB).\n",
      "    Added 17a9388ec4b04e028b4d07af2cc3a45c to chunk (1.45 MB).\n",
      "    Added d6b0de49811b4d1b86a0933719c0c44a to chunk (1.08 MB).\n",
      "    Added 9ab95de13c2d432ebb678ebb5da1ac5e to chunk (0.88 MB).\n",
      "    Added 3b594af1b130490989536590345c9dc9 to chunk (1.52 MB).\n",
      "    Added 6a9eb66eaac44de69c19d24b9d76e598 to chunk (1.34 MB).\n",
      "    Added 6aa6fa91e0d1492e812eb7e57c47df6e to chunk (0.92 MB).\n",
      "    Added a572dd2e95e94e4db66bb5dbfaf870b5 to chunk (0.73 MB).\n",
      "    Added fe2a163b8948451b95fa48e21e1988ce to chunk (1.13 MB).\n",
      "    Added 0a3abc33048d46f9bd78151d1df4b004 to chunk (1.72 MB).\n",
      "    Added f6ef25ab02c0483b9df411ed84873f41 to chunk (0.73 MB).\n",
      "    Added f40544fd4f5d42abbcfa948eeaf86850 to chunk (0.84 MB).\n",
      "    Added e3bcde4a06124931a097ef2a211aaaef to chunk (0.79 MB).\n",
      "    Added eff61ec3657c4d1c9327e3fe6ca639d3 to chunk (1.74 MB).\n",
      "    Added 609d5177362340458a3bfd4949cd1e64 to chunk (0.90 MB).\n",
      "    Added 3ff58ee0fc4748d9895300f02114aa56 to chunk (1.72 MB).\n",
      "    Added 0a0d6b8c2e884134a3b48df43d54c36a to chunk (0.83 MB).\n",
      "    Added b6c420c3a5bd4a219b1cb82ee5ea0aa7 to chunk (0.87 MB).\n",
      "    Added ca0a3858c31e4281866e2b2a7f7c0db0 to chunk (0.79 MB).\n",
      "    Added 23799328f65843fc9e0c71f2bfbe90ef to chunk (0.73 MB).\n",
      "    Added 82597244941b4e79aa3e1e9cc6386f8b to chunk (0.72 MB).\n",
      "    Added 9a0a16d628ae41d1ab25c9cdfc66d6a1 to chunk (0.78 MB).\n",
      "    Added d3c0bbf933594f7184e20d761b6416f4 to chunk (0.72 MB).\n",
      "    Added 8b6d496ed9d84469b75836ca1c56959f to chunk (0.86 MB).\n",
      "    Added 4a61e56dd1ee4c159cc595b52aa2a254 to chunk (0.87 MB).\n",
      "    Added 9ecb1b79dbe140ca860efc4adebe854b to chunk (0.80 MB).\n",
      "    Added f1fd429830e3437db4ba03ba851f0015 to chunk (1.10 MB).\n",
      "    Added d2ae3c5bbb5343a393882b44d56f8da3 to chunk (0.73 MB).\n",
      "    Added 2e96e4ef43624c3d9ae8fd5526444fa8 to chunk (1.34 MB).\n",
      "    Added c537fef0b4b241df92f44daa976fe5b3 to chunk (0.86 MB).\n",
      "    Added b7f64f73e8a548488e6d85d9b0e13242 to chunk (0.72 MB).\n",
      "    Added 8c8755ebb0bf4c519416323acad6cea1 to chunk (1.42 MB).\n",
      "    Added 38a28a3aaf2647f2a8c0e90e31267bf8 to chunk (0.88 MB).\n",
      "    Added 3a7aa284dd9d485d8effc20db8cda140 to chunk (1.13 MB).\n",
      "    Added 6ff9723a60bf4e14b328b3b19f04dc32 to chunk (1.01 MB).\n",
      "    Added b5989651183643369174912bc5641d3b to chunk (0.80 MB).\n",
      "    Added 4786b3c0d0a24c8b86b0676d32dd5919 to chunk (1.10 MB).\n",
      "    Added c36e8482feb041de9f081e76396cf4fe to chunk (1.68 MB).\n",
      "    Added ed5fc18c31904f96a8f0dbb99ff069c0 to chunk (0.91 MB).\n",
      "    Added b22fa0b3c34f47b6a360b60f35d5d567 to chunk (0.83 MB).\n",
      "    Added fe40762a54e1414da73de751877ad576 to chunk (1.53 MB).\n",
      "    Added 3d9b4a27209e4624b491f48144be21d6 to chunk (0.86 MB).\n",
      "    Added 30aaef2c5ab44dc4afea271fe829b459 to chunk (1.41 MB).\n",
      "    Added 9c93690fc9e24ebc90906ed922159d75 to chunk (1.72 MB).\n",
      "    Added e122a34ec57c4edf8311b40c3f85f863 to chunk (0.86 MB).\n",
      "    Added d8251bbc2105497ab8ec80827d4429aa to chunk (0.91 MB).\n",
      "    Added dc4c80e8a1534ff8a3eb80307341161c to chunk (1.70 MB).\n",
      "    Added 9813c23a5f1448b09bb7910fea9baf20 to chunk (0.92 MB).\n",
      "    Added ac8b4d49731d43289579f014cb7c97ef to chunk (0.82 MB).\n",
      "    Added ca9a282c9e77460f8360f564131a8af5 to chunk (0.87 MB).\n",
      "    Added c5a8f6d7a0fe4858b318aeac2524098f to chunk (0.89 MB).\n",
      "    Added 92594549844e4f7da7a0e73e92945b2b to chunk (1.47 MB).\n",
      "    Added a860c02c06e54d9dbe83ce7b694f6c17 to chunk (0.72 MB).\n",
      "    Added 9e7683e8586542a1b6032980c45f15ce to chunk (0.84 MB).\n",
      "    Added cc57c1ea80fe46a7abddfdb15654c872 to chunk (0.84 MB).\n",
      "    Added 273c930b3f384bd58b2bbae02fe81d1e to chunk (1.55 MB).\n",
      "    Added edba7d0cf1c64d2a9c8a5ebddab507a9 to chunk (0.86 MB).\n",
      "    Added a5c0ec90615e42818962e4e002de0cef to chunk (1.55 MB).\n",
      "    Added db0173c29e1e43d1b5535f48e541efdf to chunk (1.29 MB).\n",
      "    Added 8c0372d87281421aba897bec0084d0da to chunk (0.87 MB).\n",
      "    Added f3e7e088082d4aabb9a3bf504d4ac904 to chunk (0.79 MB).\n",
      "    Added b085cc54b9c6437db176033620d00529 to chunk (1.55 MB).\n",
      "    Added e174cb43655f49dab7ffa27b973670e3 to chunk (0.96 MB).\n",
      "    Added a480496a5988410fbe3d8ed6c84da996 to chunk (1.70 MB).\n",
      "    Added 134ae8a8f5c340f9894a414fc0966af4 to chunk (1.72 MB).\n",
      "    Added c78067571d104caba7c568a847d56971 to chunk (0.92 MB).\n",
      "    Added 2c3e2cfc699f4ca78cc77dc3161d1763 to chunk (0.79 MB).\n",
      "    Added 1fc26189c2524ef396e5ce6cc210c1cd to chunk (1.47 MB).\n",
      "    Added 252b65dd79ce4712af1b898b64ea3b98 to chunk (0.78 MB).\n",
      "    Added 59bd7a9fae8a45bcb76f1847cf09e000 to chunk (0.73 MB).\n",
      "    Added 083240c8c70b44e4ac6fc7f267b1518f to chunk (1.36 MB).\n",
      "    Added 1e0d1b76ea134c7db0592c4510f5e737 to chunk (1.57 MB).\n",
      "Saving chunk 000000 of 282 (100.33 MB).\n",
      "    Added 264c5f3a04744d53a72fd07c1bb6a724 to chunk (1.13 MB).\n",
      "    Added 3e8750f331d7499e9b5123e9eb70f2e2 to chunk (0.78 MB).\n",
      "    Added 7df1288fed8a403b8e7a35112b392d7c to chunk (1.13 MB).\n",
      "    Added c4f9b75136384ec4a76c4adfc28b4259 to chunk (0.73 MB).\n",
      "    Added 5f3fc3c1d08b47cabc1bbca600abbfa8 to chunk (0.73 MB).\n",
      "    Added 36aa1c0eeb50457b97911c3bd742a730 to chunk (1.70 MB).\n",
      "    Added 9fcdc52b791045e99c623c5fc643331f to chunk (0.90 MB).\n",
      "    Added ff007cb7b78443e6887401d694f0d369 to chunk (0.74 MB).\n",
      "    Added 4d4e4c0fd8ec49bdb12788e0a9ecbce3 to chunk (1.71 MB).\n",
      "    Added be99ffc878b24aca8956bbb4e0f97d0c to chunk (0.90 MB).\n",
      "    Added 4f545737bf3347fbbc9af60b0be9a963 to chunk (0.88 MB).\n",
      "    Added 5b7cb170eee6468aa1fdbd3abcf63c5a to chunk (0.91 MB).\n",
      "    Added e10f8dcb73e646af840d9955a70a63d5 to chunk (1.42 MB).\n",
      "    Added ed1eee39e3dd4c30a3d932e3ceaa92c2 to chunk (0.88 MB).\n",
      "    Added 55c258972acb4300a3a6077a531ab050 to chunk (0.96 MB).\n",
      "    Added 3be9d2705879419f8f3afc08949dca57 to chunk (1.38 MB).\n",
      "    Added 919e3c4cec934168a3152077a9adcbea to chunk (0.91 MB).\n",
      "    Added d7bea9a3552b40e29d42324108dff575 to chunk (0.72 MB).\n",
      "    Added 700c1a25559b4433be532de3475e58a9 to chunk (0.80 MB).\n",
      "    Added 796b1988dd254f74bf2fb19ba9c5b8c6 to chunk (0.83 MB).\n",
      "    Added 4246e57f018745c9b2bc68feb3d71b58 to chunk (0.94 MB).\n",
      "    Added 286532245ff646a9915070c8b402e487 to chunk (0.86 MB).\n",
      "    Added d1136fce62f14400a069613e274f46f7 to chunk (1.48 MB).\n",
      "    Added ac452a60e8b34a7080c938c904b23057 to chunk (0.73 MB).\n",
      "    Added 91d9058720eb4c25a172236e14e11085 to chunk (0.69 MB).\n",
      "    Added b993550e60054741983f8052ba97b0b0 to chunk (1.69 MB).\n",
      "    Added 7bebe3c9be714f02837f8617c56df122 to chunk (0.95 MB).\n",
      "    Added 8bf071b1b92c4ff1bd5016bfb30de3f7 to chunk (0.72 MB).\n",
      "    Added c1eed31234b94e9f8e22fbf3428b0ac2 to chunk (0.84 MB).\n",
      "    Added a0462df7186d4ca99ef58f455d53a42c to chunk (0.72 MB).\n",
      "    Added 225aa2795d63442ebc496cd0c49d3bdb to chunk (1.18 MB).\n",
      "    Added 63c24b51feb94f14bec29022dae4975d to chunk (1.10 MB).\n",
      "    Added b26e791522294bec90f86fd72226e35c to chunk (0.93 MB).\n",
      "    Added e6b0b282aa174a978272dc2d0a89d560 to chunk (1.51 MB).\n",
      "    Added 7f594234e8034228b1a7d727f1981e09 to chunk (0.88 MB).\n",
      "    Added 4ee219c4638949de9d994bc792fd0a69 to chunk (1.12 MB).\n",
      "    Added 858a1ece22cf45d9bc71e42336604b78 to chunk (0.91 MB).\n",
      "    Added 64134c75d5f547fdb4a6862b192f06cd to chunk (1.49 MB).\n",
      "    Added 5bbeb4e68d51413f81a370cb33ef27fb to chunk (0.72 MB).\n",
      "    Added 2690c36281244c06b709e9f4eeb1317a to chunk (1.73 MB).\n",
      "    Added 0402e40724984f3b833496067d46c771 to chunk (0.72 MB).\n",
      "    Added c5f58c19249d4137ae063b0e9ecd8b8e to chunk (0.78 MB).\n",
      "    Added 1b90013f0287408f9371729424c93892 to chunk (0.79 MB).\n",
      "    Added 9c7c7d5d109c40fcaecd3c422d37b4f6 to chunk (1.39 MB).\n",
      "    Added e6e877f31dd447199b56cae07f86daad to chunk (0.93 MB).\n",
      "    Added bf2938e43c6f487497cda76b51bfc406 to chunk (0.94 MB).\n",
      "    Added 0106a9b8e65f4ad1867b44591aeed8b0 to chunk (1.09 MB).\n",
      "    Added 8fe9664cec514a58b1184c4fcefda6b5 to chunk (0.79 MB).\n",
      "    Added de9432d4fc7a4e5a985e2bc628eb614c to chunk (1.16 MB).\n",
      "    Added 9966278ad296494598a9e5fba07926e0 to chunk (1.19 MB).\n",
      "    Added 61d47d1198184bfdaa6777e9448d825d to chunk (1.05 MB).\n",
      "    Added 236f1ecb6ee7459d918cd011831674d6 to chunk (1.71 MB).\n",
      "    Added c143943fd6e246448eab88ce1a0aeda9 to chunk (0.72 MB).\n",
      "    Added 19f02e3faab4412988f28d419e1727fa to chunk (1.08 MB).\n",
      "    Added a84f43c4ef52461d940a6c7d0768b86f to chunk (1.54 MB).\n",
      "    Added 98fa81992fb04e799c329eca220e7164 to chunk (1.61 MB).\n",
      "    Added a1289b27ca1d41deb6fc982be9a3d03c to chunk (0.95 MB).\n",
      "    Added b9ea04a6121d4a8bb00199b885aa5ef0 to chunk (0.88 MB).\n",
      "    Added dde297c8e12f44c4bc2f2c80e49d2b5a to chunk (0.72 MB).\n",
      "    Added 3d22d2c87c5b483a914c7e8125326013 to chunk (0.86 MB).\n",
      "    Added 06be0e3b665c44fa8d17d9f4770bdf9c to chunk (1.01 MB).\n",
      "    Added ac9af15d1aba4f5786877dde9f0b1c93 to chunk (1.08 MB).\n",
      "    Added 5b03af7a953245b5a3b23191ed4da62a to chunk (0.81 MB).\n",
      "    Added eef55c3b48f34d949959b45130ee293a to chunk (0.91 MB).\n",
      "    Added f1e3d9d08f044c439ce86a2d6fcca57b to chunk (0.87 MB).\n",
      "    Added 7626dde27d604ac28a0240bdd54eba7a to chunk (0.88 MB).\n",
      "    Added 521cde13efcc4f7cb5f93db99cce30f4 to chunk (0.78 MB).\n",
      "    Added f753d3f87e5b40af87ff2cbf7c8e7082 to chunk (0.83 MB).\n",
      "    Added 1ddf7a48af3d43be8763f154974f09ce to chunk (1.38 MB).\n",
      "    Added 0915646e387b484785ae2b847ffdee2f to chunk (1.40 MB).\n",
      "    Added 8057958576034e51bac9bdc5740128d5 to chunk (0.72 MB).\n",
      "    Added a7acb150914b40bdad9a2dc4e657cbf9 to chunk (0.94 MB).\n",
      "    Added e426ccb3e7874894b16e06774ae5ec42 to chunk (0.87 MB).\n",
      "    Added ca6000b81f2b4b598502b1e93e334a1d to chunk (1.35 MB).\n",
      "    Added bc0040070bcc4233a057bb293f5f6444 to chunk (1.11 MB).\n",
      "    Added 4cf5d6c3f6ab42aab23f67b5a9782d1a to chunk (0.86 MB).\n",
      "    Added f4163d8adea94bcf892e005d5d2937a8 to chunk (0.86 MB).\n",
      "    Added 3b594831ff7f4e27a9889c7b7d0d8e92 to chunk (1.55 MB).\n",
      "    Added bad8a002637046178fe0f8216e5bc355 to chunk (0.79 MB).\n",
      "    Added ed2e7d24f2ad41abb3d37cd9a0ca8e89 to chunk (1.34 MB).\n",
      "    Added 739b12938d0e410d9b8fc832dfad5510 to chunk (0.72 MB).\n",
      "    Added fe42b85d7f7a4107b650ffa993a4fbff to chunk (1.13 MB).\n",
      "    Added d148d50ba9be44bcb2105d8da47425b4 to chunk (1.28 MB).\n",
      "    Added acf9fcbeb1e346b98640f694f15460e8 to chunk (1.54 MB).\n",
      "    Added 7315022fc89147a6afc7f978601f8f38 to chunk (0.72 MB).\n",
      "    Added 6b7487db4612438db7d446e2832a9e2e to chunk (0.86 MB).\n",
      "    Added 092051710b7b4d9294e98dcb3f0f7be1 to chunk (1.07 MB).\n",
      "    Added 8573a885a7cb41d185c05029eeb9a54e to chunk (0.97 MB).\n",
      "    Added 023c4df2d451409881d8e6ea82f14704 to chunk (0.91 MB).\n",
      "    Added 4d8ff5b287bb4e1ba6d0a0f79fc74457 to chunk (0.79 MB).\n",
      "    Added fedfb3a6cb804635a0f47143f9ca8d6f to chunk (0.93 MB).\n",
      "    Added 384e26fb47f94faea344766bb26f987a to chunk (1.40 MB).\n",
      "    Added abf3d91d3c28407e80e3334fe89c03cb to chunk (1.72 MB).\n",
      "    Added 9cc9718713c14974b5e3094e1c4eae1c to chunk (1.56 MB).\n",
      "    Added c9304cf98aad4ff0bb5b0cff0aab65d2 to chunk (0.70 MB).\n",
      "    Added 0d6668bcb0644bbaaee81c17cc308845 to chunk (1.70 MB).\n",
      "Saving chunk 000001 of 282 (100.59 MB).\n",
      "    Added b8766f4291d5449d95bab459ca724ad8 to chunk (0.72 MB).\n",
      "    Added a771effa2a2648d78096c3e92b95b129 to chunk (0.89 MB).\n",
      "    Added 05bc09f952ab4cf8b754405f20d503c5 to chunk (0.72 MB).\n",
      "    Added 8017a35b9b5e476289a89bd098a4a1d1 to chunk (0.75 MB).\n",
      "    Added 29796060110c4163b07f06eff4af0753 to chunk (1.35 MB).\n",
      "    Added 59b32981037042eda1fed3c1026fbaba to chunk (1.03 MB).\n",
      "    Added b1303058fa624645b753d7283d70de45 to chunk (0.90 MB).\n",
      "    Added 7f49d07afdf64212a4eea699cb5ab17c to chunk (1.37 MB).\n",
      "    Added 0373e9d8886648779c8a73304919ab5f to chunk (0.80 MB).\n",
      "    Added f90292e4cdf647e1a8842baabdaafcec to chunk (1.57 MB).\n",
      "    Added 281b92269fd648d4b52d06ac06ca6d65 to chunk (0.84 MB).\n",
      "    Added 2ff86dc19c4644a1a88ce5ba848f56e5 to chunk (0.94 MB).\n",
      "    Added 378a3a3e9af346308ab9dff8ced46d9c to chunk (0.92 MB).\n",
      "    Added f0c059b6d7b8438ea9f08de0a3c1fc1a to chunk (1.42 MB).\n",
      "    Added 4b894442c95141f9affd731d9da7b43c to chunk (0.93 MB).\n",
      "    Added a5addc41b07842768a2183abdd01cff8 to chunk (0.80 MB).\n",
      "    Added 313a60afcab5481a94a4815e0d1a6496 to chunk (0.73 MB).\n",
      "    Added 5fda58ee3ae44ab9b4bbac7a2de66c27 to chunk (0.91 MB).\n",
      "    Added 8cd36e9531fb4eba8e6ac1d666c4641c to chunk (0.96 MB).\n",
      "    Added 6af01b48aec7475eac1f8e9add0276ff to chunk (0.70 MB).\n",
      "    Added feaef544d11646ed806b53d9e1f39cd9 to chunk (1.11 MB).\n",
      "    Added e54b784a608644a2804fcf800c7499f7 to chunk (0.94 MB).\n",
      "    Added f5b8088835f247b8a5434a9f0daadc20 to chunk (0.72 MB).\n",
      "    Added a5afebb0aa5e4d7c95665788ce51ec58 to chunk (0.89 MB).\n",
      "    Added 7d82aa0c679141d1a71733b85fdcd3ed to chunk (1.41 MB).\n",
      "    Added 3f2ddc9476eb475b8c46f777f508cedb to chunk (1.59 MB).\n",
      "    Added 78e778e7e6c84dc59c0436a4d6ff5032 to chunk (1.15 MB).\n",
      "    Added ebce5a3b3484446580028d6538e69a81 to chunk (0.86 MB).\n",
      "    Added 7ff999a1242e4573a81dd3a6f0c158a2 to chunk (0.72 MB).\n",
      "    Added c235638ed66145988d17f9d0601923f2 to chunk (0.92 MB).\n",
      "    Added e63b83b436a0479db7362338cdfab118 to chunk (0.90 MB).\n",
      "    Added 9ee4020153674b9e9943d395ff8cfdf3 to chunk (0.82 MB).\n",
      "    Added 747aa46b9a4641fe90db05d97db2acea to chunk (0.83 MB).\n",
      "    Added 9150678870764c1b87a649a25939c61b to chunk (0.99 MB).\n",
      "    Added ae5004bf4ebb4db0a84cb3c27bd398d1 to chunk (0.80 MB).\n",
      "    Added 6d9984d09d52479e837da2fd09e192cc to chunk (0.87 MB).\n",
      "    Added 25a4a6aa9096458285cba35c950f2717 to chunk (1.72 MB).\n",
      "    Added 17723c0411434e48875a93de4db0ecba to chunk (1.07 MB).\n",
      "    Added 2afb9d32310e4546a71cbe432911eca2 to chunk (0.96 MB).\n",
      "    Added 9768a199e4884a0db50d015703efe969 to chunk (0.73 MB).\n",
      "    Added 0bb62a68055249e381b039bf54b0ccf8 to chunk (0.80 MB).\n",
      "    Added 05e993bd780241aabaa30dd2a0473286 to chunk (1.48 MB).\n",
      "    Added 8366b5125ac945f3b93153cfa39f1677 to chunk (0.86 MB).\n",
      "    Added 39bc0a6b3692446d8ba3bde3d6a0774e to chunk (0.73 MB).\n",
      "    Added 7147d8d1b51b428fb408f34799325111 to chunk (1.71 MB).\n",
      "    Added 4e169e93acb346d59de1af7f2b4882e1 to chunk (1.71 MB).\n",
      "    Added 07fad91090c746ccaa1b2bdb55329e20 to chunk (0.79 MB).\n",
      "    Added 44237858a539457da65822bfcf58c414 to chunk (0.97 MB).\n",
      "    Added a43568a562a043f38af0ec0b71520af7 to chunk (1.52 MB).\n",
      "    Added 35833ae5808e4ef186d1fdebac3d9cf6 to chunk (0.88 MB).\n",
      "    Added e00dc15130dc44e796687baadd076ae4 to chunk (0.90 MB).\n",
      "    Added 87e772078a494d42bd34cd16172808bc to chunk (0.86 MB).\n",
      "    Added ba2491f55619445e9d2e472f39f3b01b to chunk (0.73 MB).\n",
      "    Added 4aaaf68b9f9f45968a4e862eb03e17ea to chunk (1.03 MB).\n",
      "    Added 8d7dcd1533704f5882a5afcb65509ed5 to chunk (1.54 MB).\n",
      "    Added a5f101af325144bd8b8f67694766e255 to chunk (0.73 MB).\n",
      "    Added 639a4120779f44bb9cf41be3e8612e36 to chunk (1.03 MB).\n",
      "    Added 6832e717621341568c759151b5974512 to chunk (0.87 MB).\n",
      "    Added 5991fad3280c4f84b331536c32001a04 to chunk (0.70 MB).\n",
      "    Added 407969e29bf741f184bf8405af03588e to chunk (0.86 MB).\n",
      "    Added b902d29df24c4efda414a9a88ed57031 to chunk (1.70 MB).\n",
      "    Added c69f16f8568a4479ab2f200c802309d9 to chunk (1.45 MB).\n",
      "    Added 61d9340c5ad8418dafe7a4af1b96e6b9 to chunk (0.82 MB).\n",
      "    Added 21342b260f964064855aa8ad1e741a22 to chunk (0.76 MB).\n",
      "    Added 5998b71b64c146769bde1d5430741381 to chunk (1.48 MB).\n",
      "    Added 9c56003504024697a5c8d1cb9355a335 to chunk (0.86 MB).\n",
      "    Added 348c8122f47349429a6cd694dcac86e6 to chunk (0.85 MB).\n",
      "    Added be1494c7762c43ca88010f366997a586 to chunk (1.09 MB).\n",
      "    Added 3ffc4360d1084e6eae5067e87d79503f to chunk (0.72 MB).\n",
      "    Added a98fba72bde9433fb882032d18aedb2e to chunk (0.84 MB).\n",
      "    Added 7220a2aaebf347cda4efedc88dcae96e to chunk (1.39 MB).\n",
      "    Added 96d915e8b7e44bacba3c78e76a924e5c to chunk (0.81 MB).\n",
      "    Added f218a2b4fa6941f7ac3798adc72126e8 to chunk (1.10 MB).\n",
      "    Added c18d3bcc9297454ba52112c079cb756e to chunk (1.55 MB).\n",
      "    Added 456ec36cb4a44ca78f36fbd90c0c34fa to chunk (0.82 MB).\n",
      "    Added 95c0a92d52584756832ec795d346e296 to chunk (1.41 MB).\n",
      "    Added 7f87e737dad642d9aff78a7fe12ce194 to chunk (1.36 MB).\n",
      "    Added 6e004695af1549c398a52b5c95e22060 to chunk (0.72 MB).\n",
      "    Added c59e60042a8643e899008da2e446acca to chunk (0.86 MB).\n",
      "    Added 9cdbf5ff7f294549aea0a4307e5d104a to chunk (0.88 MB).\n",
      "    Added fb61d590dd1143ccb12ea56fbe9d9d07 to chunk (1.56 MB).\n",
      "    Added a34fabc7aa674713b71f98ec541eb2d4 to chunk (0.93 MB).\n",
      "    Added 1dba6570f0774b5cb87de6694bb338c0 to chunk (1.05 MB).\n",
      "    Added 0e837c21890a4515874247ceb3dbf5c3 to chunk (1.57 MB).\n",
      "    Added c631b61375a642b6b110f5bd5543ef7a to chunk (1.72 MB).\n",
      "    Added a9def8f915cf4bfe9c74b864384ec6c7 to chunk (0.86 MB).\n",
      "    Added f5f955d2d7594fb4b18ef615b421c98e to chunk (1.54 MB).\n",
      "    Added f65ffdc408fb4a0c8ef0d1614b47dce8 to chunk (1.43 MB).\n",
      "    Added ee9b3f38dadd40588f43ba590c4751b9 to chunk (1.34 MB).\n",
      "    Added dca2cc206bb34bc197ae8ebdaed22f35 to chunk (1.15 MB).\n",
      "    Added c844bf5a9f2243ff8f4bf2c85fe218ff to chunk (0.92 MB).\n",
      "    Added d0ecf474e0e64950aa265cd44b9c9d75 to chunk (0.81 MB).\n",
      "Saving chunk 000002 of 282 (96.27 MB).\n"
     ]
    },
    {
     "name": "stderr",
     "output_type": "stream",
     "text": [
      "Indexing metadata: 80it [00:00, 97826.33it/s]\n"
     ]
    },
    {
     "name": "stdout",
     "output_type": "stream",
     "text": [
      "    Added 46292fc546f048f29520299220f22798 to chunk (0.79 MB).\n",
      "    Added f77ef1c17cbf432587d705c88ce76b3b to chunk (1.53 MB).\n",
      "    Added 77fc24547ab34182a945eecb825b6576 to chunk (1.55 MB).\n",
      "    Added 4e1d1031fe9f45f981a2f598365fc645 to chunk (1.60 MB).\n",
      "    Added 67e5f88901214f3aa03d68e028185e22 to chunk (0.93 MB).\n",
      "    Added 385d542a35384181bc1e69cfd2df0664 to chunk (1.41 MB).\n",
      "    Added fc8ed14d78fa4879898315f5dee21d38 to chunk (1.71 MB).\n",
      "    Added b4c279e61abf49bd871ff2ec4b13e115 to chunk (1.72 MB).\n",
      "    Added 0af0feb5b1394b928dd13d648de898f5 to chunk (0.82 MB).\n",
      "    Added dc53cf076d114df7bb59c2a0b3bc3154 to chunk (1.72 MB).\n",
      "    Added b2e2ffeabf91451cb31a79649bfd95df to chunk (0.75 MB).\n",
      "    Added 31812a5e8d514b5f8d2fbc50fc007475 to chunk (0.73 MB).\n",
      "    Added 5b77f438091b4d00a74d333ef2fe9033 to chunk (1.36 MB).\n",
      "    Added 3e7ed5cf0b4541e4a0e1b109dfea89cf to chunk (1.07 MB).\n",
      "    Added 8178cfbc864e4cb0b6e35746b32bed9f to chunk (1.52 MB).\n",
      "    Added 12e1aa58e9d04068a33f37b896b901a3 to chunk (0.86 MB).\n",
      "    Added c1676a2feac74eee8aa38ca3901787d6 to chunk (1.08 MB).\n",
      "    Added ace4b20b94cf47d0b68addac79fe68de to chunk (1.72 MB).\n",
      "    Added fa51f1910942494cbe396640010fea64 to chunk (1.10 MB).\n",
      "    Added 048a45dd2cf54aa5808d8ccc85731d44 to chunk (0.92 MB).\n",
      "    Added b6b0d9f2f2e14a3aaa2c8aedeb1edb69 to chunk (0.82 MB).\n",
      "    Added d61ef2ae3bd54793b8beec55061940f0 to chunk (1.72 MB).\n",
      "    Added 41550a1f0b0548e5823b14d95e807c7d to chunk (1.72 MB).\n",
      "    Added 447c96d132e9494e8b03050e8dcae124 to chunk (0.76 MB).\n",
      "    Added 1923316323b44b86b3389178fb026db6 to chunk (1.44 MB).\n",
      "    Added 6402fd1ffaf041d0b9162bd92a7ba0a2 to chunk (0.89 MB).\n",
      "    Added c0f7a7d51fbe46f9be8ca098da06b7fb to chunk (1.39 MB).\n",
      "    Added aa581aac963a4fad848ac11fe66e8637 to chunk (0.92 MB).\n",
      "    Added cd9964f8c3d34383b16e9c2997de1ed0 to chunk (0.87 MB).\n",
      "    Added 6f114ec641f8426399b69e844c0dfd62 to chunk (0.73 MB).\n",
      "    Added 2021b6b367984ad7b18464a550d0ae8d to chunk (0.72 MB).\n",
      "    Added 73e2b7fb98ef41aface277a968d65941 to chunk (0.86 MB).\n",
      "    Added f2d48fe35d5646659dc339e1d36886f9 to chunk (1.30 MB).\n",
      "    Added 37535cd306954669a2b21578573b93e3 to chunk (0.73 MB).\n",
      "    Added 6d5d0e60cbf4429d8b6cfa055924e5ca to chunk (1.05 MB).\n",
      "    Added 7ae00681137b40f5bd7bef3823a82ee2 to chunk (0.86 MB).\n",
      "    Added d7387fb5a21d40a990a5842cca61af1c to chunk (0.78 MB).\n",
      "    Added 0d0700a2284e477db876c3ee1d864668 to chunk (0.83 MB).\n",
      "    Added 2c77ee386aa0444aaf27140fe6cc8364 to chunk (1.73 MB).\n",
      "    Added 0307afa1ec7e48ce90295acabf8cb6dd to chunk (0.87 MB).\n",
      "    Added 576f17c305324ed7bf460f0110617355 to chunk (0.74 MB).\n",
      "    Added 9bd27a83e6ee47f9aa372bbe8a8573c8 to chunk (1.71 MB).\n",
      "    Added 0cd661df01aa40c3bb3a773ba86f753a to chunk (0.93 MB).\n",
      "    Added 7bf1cef0e253474e847ee4c2eb955901 to chunk (1.38 MB).\n",
      "    Added 4711bcd34644420da8bc77163431888e to chunk (0.93 MB).\n",
      "    Added ed5b84e7ea6f434e99d7816b37d15f2f to chunk (0.72 MB).\n",
      "    Added 965f6af5a92449348409029a5f048a38 to chunk (0.93 MB).\n",
      "    Added 49dfd2f2fef447cc9b8dec3e17c1c919 to chunk (1.60 MB).\n",
      "    Added e8b1863300964b2481fee312496d06d8 to chunk (1.44 MB).\n",
      "    Added 841dd6709e9b4d7c9d6bf888f1fe6d7e to chunk (0.93 MB).\n",
      "    Added b73152cab88f49d9ba195da81fde1809 to chunk (0.91 MB).\n",
      "    Added 93f4f8ac1145418cadcf14dfd2a9cf78 to chunk (1.71 MB).\n",
      "    Added a401b5ee030547ab8678a563f13b4731 to chunk (1.44 MB).\n",
      "    Added 26e594c412e84bdda76e344933fe305a to chunk (1.15 MB).\n",
      "    Added baaa60749cd04db7952fd8f4ef8ac837 to chunk (0.77 MB).\n",
      "    Added 056becbc0d5a46da8d59eebddedb47bb to chunk (1.49 MB).\n",
      "    Added dd8d85a47000418e849e4cb2f2a3f45f to chunk (0.84 MB).\n",
      "    Added 3a064c48e47b489a8b442b8081f877b6 to chunk (0.73 MB).\n",
      "    Added 6dabc0fb1df045558f802246dd186b3f to chunk (0.72 MB).\n",
      "    Added b2f333255d574bebb6f170beaab6a824 to chunk (1.10 MB).\n",
      "    Added c567f9b8e9f34817acdc9c49d791c557 to chunk (0.91 MB).\n",
      "    Added c15f8261acfd4013a735798770fad71a to chunk (0.83 MB).\n",
      "    Added 3950bd41f74548429c0f7700ff3d8269 to chunk (0.78 MB).\n",
      "    Added d68668cb98fe4be5a00f58b5ac8a0a7d to chunk (0.86 MB).\n",
      "    Added 4ae9c033164e4e01a0392672686d095c to chunk (0.72 MB).\n",
      "    Added b422bd971acf483592e367c2c5057a60 to chunk (1.13 MB).\n",
      "    Added b4ff30109dd14c89b24789dc5713cf8c to chunk (0.88 MB).\n",
      "    Added 73ccc9c10a3547849b8ff130d50bac98 to chunk (0.79 MB).\n",
      "    Added 8092909473464f80b9f791a4d31ddcb8 to chunk (0.90 MB).\n",
      "    Added cc0342fe162348dc9445493aab4b463e to chunk (1.39 MB).\n",
      "    Added 0fa505e5dd804d3b9f9f076d23b28d6d to chunk (0.74 MB).\n",
      "    Added 2e024439286d469f8f743fe9266c0e56 to chunk (0.73 MB).\n",
      "    Added 5f6cc6483988439a824cec99e28bb5b9 to chunk (0.71 MB).\n",
      "    Added 8e352d4a6c6f40c8ad4f10a3d2c3f158 to chunk (0.92 MB).\n",
      "    Added af8c2d8187aa463eab3cccbd6abc1573 to chunk (0.79 MB).\n",
      "    Added 8336b62c3f6f4bb988c3865cc5df4446 to chunk (1.73 MB).\n",
      "    Added 26f99f91a8e14038bd52aee4d00df394 to chunk (1.71 MB).\n",
      "    Added 61a7bd24f88a46c2963280d8b13ac675 to chunk (0.91 MB).\n",
      "    Added 1c9a906c40f6417bbe1cea06d6e55501 to chunk (0.90 MB).\n",
      "    Added a51146d2b181450292623ec03ade9f03 to chunk (1.05 MB).\n",
      "Saving chunk 000000 of 80 (87.46 MB).\n"
     ]
    },
    {
     "name": "stderr",
     "output_type": "stream",
     "text": [
      "Indexing metadata: 42it [00:00, 62050.29it/s]\n"
     ]
    },
    {
     "name": "stdout",
     "output_type": "stream",
     "text": [
      "    Added 27900b9c3cfb48ed8b49087098d4a15a to chunk (0.72 MB).\n",
      "    Added 312cd4d3bef1476a9211d3dab50dd0b7 to chunk (1.08 MB).\n",
      "    Added 4d7cf1ad5f9c4842bb6f135e058deed4 to chunk (0.73 MB).\n",
      "    Added 050b2d9c4bb647b7ab4ee94bdb538e1d to chunk (1.72 MB).\n",
      "    Added c9e812f2705b4b198f4675dfaa33812d to chunk (1.70 MB).\n",
      "    Added 61cfc5554a724824b0d34bddc147d890 to chunk (1.69 MB).\n",
      "    Added 7ca3502caf394d6d9c0a80b822b3ff48 to chunk (1.41 MB).\n",
      "    Added 07c29094cb6144aa889c16c52f762d79 to chunk (1.52 MB).\n",
      "    Added 042f582eb2bb4231910918ba85f390d3 to chunk (1.60 MB).\n",
      "    Added 27749aa3de2545219186c61d4d415e1c to chunk (1.62 MB).\n",
      "    Added df7066fa5f0d4b708982747cc3feed14 to chunk (0.70 MB).\n",
      "    Added e0845f5322254dafadbbed75aaa07969 to chunk (0.81 MB).\n",
      "    Added 32e2619879854a83953c08ec8557f3bb to chunk (0.73 MB).\n",
      "    Added 8580e9a249b64b59bead9d80c0e13e8b to chunk (0.75 MB).\n",
      "    Added 7fd597745c26471ab336b3dd41a5f6dc to chunk (1.08 MB).\n",
      "    Added bc3c8a953f6b4dcdb77b521d89f3d9d5 to chunk (0.94 MB).\n",
      "    Added 0d7263a5b8264cad996582d6219ef1f2 to chunk (0.77 MB).\n",
      "    Added 47188ae2bc8c4faf83c909b135701176 to chunk (0.72 MB).\n",
      "    Added a19a80c905674faab7203a3a4e0f5246 to chunk (0.89 MB).\n",
      "    Added 6cb024831cce4b6e8acf85afb7cece6e to chunk (1.54 MB).\n",
      "    Added 8e5512a630dc44c08d3e3f692b34f808 to chunk (1.72 MB).\n",
      "    Added d7cb9aa06de1442d8e2a22d562045cb4 to chunk (1.71 MB).\n",
      "    Added e9a1c915c0d641d0b0a3019112a1ee90 to chunk (0.72 MB).\n",
      "    Added dcbe451d383e450786aaad04ab9d3790 to chunk (0.72 MB).\n",
      "    Added cb4e6195faad467094fbd4d0a9e960e9 to chunk (0.90 MB).\n",
      "    Added f4f86af4da3b49e79497deda5c5f223a to chunk (0.86 MB).\n",
      "    Added fa65a298c01f44e7a182bbf9e5fe3697 to chunk (0.87 MB).\n",
      "    Added 8687ba92abd3406aa797115b874ebeba to chunk (0.72 MB).\n",
      "    Added fdc39b23ab4242eda6ec5e1e6574fe33 to chunk (0.82 MB).\n",
      "    Added 648fe1aeca944fb793b334cb6ee01854 to chunk (1.55 MB).\n",
      "    Added cd21dbfc3bd749c7b10a5c42562e0c42 to chunk (0.96 MB).\n",
      "    Added f2a6d0e38153467ba0d02706024e258d to chunk (1.72 MB).\n",
      "    Added de7593d76648450e947ba0c203dee1b0 to chunk (0.82 MB).\n",
      "    Added 6d1d793b68b24165be5755a54054c82a to chunk (1.39 MB).\n",
      "    Added 99f903d3f74a4f76a05a4f1e10e49329 to chunk (1.73 MB).\n",
      "    Added 73eb876167f4419a9a6ec1a601abdcaf to chunk (0.85 MB).\n",
      "    Added ce94ef7a0522468e81c0e2b3a2f1e12d to chunk (0.89 MB).\n",
      "    Added 37bed8d646cd4f0f8eac519794dd8bd7 to chunk (1.37 MB).\n",
      "    Added 1e3d79dae62742a0ad64c91679863358 to chunk (0.95 MB).\n",
      "    Added 269ccf1fe399403c914e1f649d2a8ca2 to chunk (1.06 MB).\n",
      "    Added 88449a5cb1644a199c1c11f6ac034867 to chunk (0.94 MB).\n",
      "    Added a63038dfb41843eb8a14485d90c2fa35 to chunk (1.42 MB).\n",
      "Saving chunk 000000 of 42 (47.41 MB).\n"
     ]
    }
   ],
   "source": [
    "# Target 100 MB per chunk.\n",
    "TARGET_BYTES_PER_CHUNK = int(1e8)\n",
    "\n",
    "if True:\n",
    "    for stage in (\"train\", \"test\", 'val'):\n",
    "        keys = get_example_keys(stage)\n",
    "\n",
    "        chunk_size = 0\n",
    "        chunk_index = 0\n",
    "        chunk: list[Example] = []\n",
    "\n",
    "        def save_chunk():\n",
    "            global chunk_size\n",
    "            global chunk_index\n",
    "            global chunk\n",
    "\n",
    "            chunk_key = f\"{chunk_index:0>6}\"\n",
    "            print(\n",
    "                f\"Saving chunk {chunk_key} of {len(keys)} ({chunk_size / 1e6:.2f} MB).\"\n",
    "            )\n",
    "            dir = OUTPUT_DIR / stage\n",
    "            dir.mkdir(exist_ok=True, parents=True)\n",
    "            torch.save(chunk, dir / f\"{chunk_key}.torch\")\n",
    "\n",
    "            # Reset the chunk.\n",
    "            chunk_size = 0\n",
    "            chunk_index += 1\n",
    "            chunk = []\n",
    "\n",
    "        for key in keys:\n",
    "            metadata_dir = INPUT_METADATA_DIR / stage / f\"{key}.txt\"\n",
    "\n",
    "            # Read images and metadata.\n",
    "            example = load_metadata(metadata_dir)\n",
    "            images = load_images(example)\n",
    "            num_bytes = get_example_size(example)\n",
    "\n",
    "            # Merge the images into the example.\n",
    "            example[\"images\"] = [\n",
    "                images[camera_token] for camera_token in example[\"camera_tokens\"]\n",
    "            ]\n",
    "            assert len(images) == len(example[\"camera_tokens\"])\n",
    "\n",
    "            # Add the key to the example.\n",
    "            example[\"key\"] = key\n",
    "\n",
    "            print(f\"    Added {key} to chunk ({num_bytes / 1e6:.2f} MB).\")\n",
    "            chunk.append(example)\n",
    "            chunk_size += num_bytes\n",
    "\n",
    "            if chunk_size >= TARGET_BYTES_PER_CHUNK:\n",
    "                save_chunk()\n",
    "\n",
    "        if chunk_size > 0:\n",
    "            save_chunk()"
   ]
  },
  {
   "cell_type": "code",
   "execution_count": 110,
   "id": "52841ac4-3a92-4608-86ef-cee7a0d15345",
   "metadata": {},
   "outputs": [
    {
     "name": "stderr",
     "output_type": "stream",
     "text": [
      "Indexing train: 100%|██████████████████████████████████████████████████████████████████████████████████████████████████████████████████████████████████| 4/4 [00:00<00:00, 19.74it/s]\n",
      "Indexing test: 100%|███████████████████████████████████████████████████████████████████████████████████████████████████████████████████████████████████| 2/2 [00:00<00:00, 42.62it/s]\n",
      "Indexing val: 100%|████████████████████████████████████████████████████████████████████████████████████████████████████████████████████████████████████| 2/2 [00:00<00:00, 71.63it/s]\n"
     ]
    }
   ],
   "source": [
    "import json\n",
    "from pathlib import Path\n",
    "\n",
    "import torch\n",
    "from tqdm import tqdm\n",
    "\n",
    "DATASET_PATH = Path('/root/LSM/data/nuscenes/pt_data')\n",
    "\n",
    "if __name__ == \"__main__\":\n",
    "    for stage in DATASET_PATH.iterdir():\n",
    "        index = {}\n",
    "        for chunk_path in tqdm(list(stage.iterdir()), desc=f\"Indexing {stage.name}\"):\n",
    "            if chunk_path.suffix == \".torch\":\n",
    "                chunk = torch.load(chunk_path)\n",
    "                for example in chunk:\n",
    "                    index[example[\"key\"]] = str(chunk_path.relative_to(stage))\n",
    "        with (stage / \"index.json\").open(\"w\") as f:\n",
    "            json.dump(index, f)\n"
   ]
  },
  {
   "cell_type": "code",
   "execution_count": null,
   "id": "0e5abac7-d782-4daf-8a5c-b34d7c6b6ccb",
   "metadata": {},
   "outputs": [],
   "source": []
  }
 ],
 "metadata": {
  "kernelspec": {
   "display_name": "Python 3 (ipykernel)",
   "language": "python",
   "name": "python3"
  },
  "language_info": {
   "codemirror_mode": {
    "name": "ipython",
    "version": 3
   },
   "file_extension": ".py",
   "mimetype": "text/x-python",
   "name": "python",
   "nbconvert_exporter": "python",
   "pygments_lexer": "ipython3",
   "version": "3.10.13"
  }
 },
 "nbformat": 4,
 "nbformat_minor": 5
}
